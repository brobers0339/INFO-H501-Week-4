{
 "cells": [
  {
   "cell_type": "markdown",
   "id": "e3aad6c5",
   "metadata": {},
   "source": [
    "<font color='darkred'> Unless otherwise noted, **this notebook will not be reviewed or autograded.**</font> You are welcome to use it for scratchwork, but **only the files listed in the exercises will be checked.**\n",
    "\n",
    "---\n",
    "\n",
    "# Exercises\n",
    "\n",
    "This week, you will build a GitHub repository that uses Python modules to perform a basic task. Before we begin, make sure you're at least familiar with the steps in the **Week 4 | Development Setup** page on Canvas.\n"
   ]
  },
  {
   "cell_type": "markdown",
   "id": "acb6def4",
   "metadata": {},
   "source": [
    "\n",
    "## Exercise 1\n",
    "\n",
    "Using the steps in the **Week 4 | Development Setup** page, create a new environment and a **public** GitHub repository from your computer, both called *dummy*. Install NumPy in the *dummy* environment.\n"
   ]
  },
  {
   "cell_type": "markdown",
   "id": "cbdda62b",
   "metadata": {},
   "source": [
    "\n",
    "## Exercise 2\n",
    "\n",
    "1. Create a scratch notebook (scratch.ipynb) file in your *dummy* directory.\n",
    "2. Add a .gitignore file and make sure the following are not tracked by Git. \n",
    "    - `scratch.ipynb`\n",
    "    - `__pycache__`\n",
    "    - `.DS_Store`\n",
    "2. Open your scratch.ipynb notebook in VS Code, and set the kernel for this notebook to be the *dummy* environment you created.\n",
    "3. In the first cell of the notebook, run the command `!conda env list`, and in the second cell, run the command `import numpy as np`. Make sure the output for both cells are visible.\n",
    "4. Take a full screenshot of your VS Code window with the notebook open, and save it as a PNG or JPEG file in your *dummy* repository.\n",
    "5. Commit these changes to your repository with a message like \"Initial commit: setup environment and notebook\".\n"
   ]
  },
  {
   "cell_type": "markdown",
   "id": "d82c37af",
   "metadata": {},
   "source": [
    "\n",
    "## Exercise 3\n",
    "\n",
    "Create a text file called *corpus.txt* in your *dummy* repository. Copy the text from an online article of your choosing, and paste all of the text into this file. Commit this change with a message like \"Add corpus.txt with text\".\n"
   ]
  },
  {
   "cell_type": "markdown",
   "id": "01ee77ac",
   "metadata": {},
   "source": [
    "\n",
    "## Exercise 4\n",
    "\n",
    "In your *scratch.ipynb* notebook, add a cell with the following code:\n",
    "\n",
    "***\n",
    "\n",
    "```python\n",
    "from textutil.prompt import report_count\n",
    "\n",
    "token = \"the\"\n",
    "num_token = report_count(token)\n",
    "```\n",
    "\n",
    "***\n",
    "\n",
    "Adjust your repository such that this cell: \n",
    "\n",
    "1. **Prints** the following text: `The term \"[token]\" shows up in the in the corpus [number] times.`\n",
    "2. `num_token` is equal to `[number]` (from the output above).\n",
    "\n",
    "- So, this function (a) returns a number and (b) prints a message.\n",
    "- Of course `[number]` should be the correct number of times the word `[token]` shows up in your *corpus.txt* file. **Even if that number is zero!**\n",
    "- <font color='darkorange'>The `prompt` module **must** reference a function in a *different* module within *textutil*.</font> So, your *textutil* package will have more than one module file.\n",
    "- All *modules* must contain **only functions** (and `import` statements), and nothing more. *Hint: You might need an \\_\\_init__.py file.*\n",
    "\n",
    "Once you have this working, take another screenshot of your VS Code window, showing the output of this cell.\n",
    "\n",
    "Commit your changes with a message like \"Add word count functionality\".\n"
   ]
  },
  {
   "cell_type": "markdown",
   "id": "6ba516a3",
   "metadata": {},
   "source": [
    "\n",
    "## Exercise 5\n",
    "\n",
    "Add a README.md file to your repository, and include at least two sections:\n",
    "\n",
    "- **Environment Setup**: Just the screenshot you took in Exercise 2.\n",
    "- **Word Count Demo**: The screenshot you took in Exercise 4, along with a brief description of what the code does.\n",
    "\n",
    "<font color='darkorange'>**Make sure to submit the URL to your *dummy* repository in Canvas**, **NOT** the URL to this forked repository.</font>\n"
   ]
  },
  {
   "cell_type": "code",
   "execution_count": null,
   "id": "c33bdbc8",
   "metadata": {
    "vscode": {
     "languageId": "plaintext"
    }
   },
   "outputs": [],
   "source": []
  }
 ],
 "metadata": {
  "language_info": {
   "name": "python"
  }
 },
 "nbformat": 4,
 "nbformat_minor": 5
}
