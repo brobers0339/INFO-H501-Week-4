{
 "cells": [
  {
   "cell_type": "markdown",
   "id": "e3aad6c5",
   "metadata": {},
   "source": [
    "<font color='darkred'> Unless otherwise noted, **this notebook will not be reviewed or autograded.**</font> You are welcome to use it for scratchwork, but **only the files listed in the exercises will be checked.**\n",
    "\n",
    "---\n",
    "\n",
    "# Exercises\n",
    "\n",
    "This week, you will build a GitHub repository that uses Python modules to perform a basic task. Before we begin, make sure you're at least familiar with the steps in the **Week 4 | Development Setup** page on Canvas.\n"
   ]
  },
  {
   "cell_type": "markdown",
   "id": "acb6def4",
   "metadata": {},
   "source": [
    "\n",
    "## Exercise 1\n",
    "\n",
    "Using the steps in the **Week 4 | Development Setup** page, create a new environment and a **public** GitHub repository from your computer, both called *dummy*. Install NumPy in the *dummy* environment.\n"
   ]
  },
  {
   "cell_type": "markdown",
   "id": "cbdda62b",
   "metadata": {},
   "source": [
    "\n",
    "## Exercise 2\n",
    "\n",
    "1. Create a scratch notebook (scratch.ipynb) file in your *dummy* directory.\n",
    "2. Add a .gitignore file and make sure the following are not tracked by Git. \n",
    "    - `scratch.ipynb`\n",
    "    - `__pycache__`\n",
    "    - `.DS_Store`\n",
    "2. Open your scratch.ipynb notebook in VS Code, and set the kernel for this notebook to be the *dummy* environment you created.\n",
    "3. In the first cell of the notebook, run the command `!conda env list`, and in the second cell, run the command `import numpy as np`. Make sure the output for both cells are visible.\n",
    "4. Take a full screenshot of your VS Code window with the notebook open, and save it as a PNG or JPEG file in your *dummy* repository.\n",
    "5. Commit these changes to your repository with a message like \"Initial commit: setup environment and notebook\".\n"
   ]
  },
  {
   "cell_type": "markdown",
   "id": "d82c37af",
   "metadata": {},
   "source": [
    "\n",
    "## Exercise 3\n",
    "\n",
    "Create a text file called *corpus.txt* in your *dummy* repository. Copy the text from an online article of your choosing, and paste all of the text into this file. Commit this change with a message like \"Add corpus.txt with text\".\n"
   ]
  },
  {
   "cell_type": "markdown",
   "id": "01ee77ac",
   "metadata": {},
   "source": [
    "\n",
    "## Exercise 4\n",
    "\n",
    "For this exercise, you will practice creating and using **modules** in Python along with **pandas**.\n",
    "\n",
    "Tasks:\n",
    "\n",
    "1. Create a package `datautil/` with three modules:\n",
    "   - `fetch.py` contains → `load_cost_of_food()` to load the dataset (`cost_of_food.csv`).\n",
    "   - `transform.py` contains: →\n",
    "     - `melt_years(df)` → melts the year columns into long format.  \n",
    "       The tidy output should include: `Country Name`, `Series Code`, `year`, `value`.  \n",
    "     - `pivot_country_by_year(df_long)` → pivots data with `Country Name` as rows, `year` as columns, and values = *Cost of a Healthy Diet (CoHD)*.\n",
    "   - `viz.py` → contains:\n",
    "     - `plot_country_trend(df_long, countries)` → line chart of CoHD over time for selected countries.\n",
    "\n",
    "2. Import and run your functions as below:\n",
    "   ```python\n",
    "   from datautil.fetch import load_cost_of_food\n",
    "   from datautil.transform import melt_years, pivot_country_by_year\n",
    "   from datautil.viz import plot_country_trend\n",
    "\n",
    "3. Commit these changes to your repository with a message like \"Add pandas melt, pivot, and line chart visualization for Exercise 4\".\n"
   ]
  },
  {
   "cell_type": "markdown",
   "id": "6ba516a3",
   "metadata": {},
   "source": [
    "\n",
    "## Exercise 5\n",
    "\n",
    "Add a README.md file to your repository, and include at least two sections:\n",
    "\n",
    "- **Environment Setup**: Just the screenshot you took in Exercise 2.\n",
    "- **Word Count Demo**: The screenshot you took in Exercise 4, along with a brief description of what the code does.\n",
    "\n",
    "<font color='darkorange'>**Make sure to submit the URL to your *dummy* repository in Canvas**, **NOT** the URL to this forked repository.</font>\n"
   ]
  },
  {
   "cell_type": "code",
   "execution_count": null,
   "id": "c33bdbc8",
   "metadata": {
    "vscode": {
     "languageId": "plaintext"
    }
   },
   "outputs": [],
   "source": []
  }
 ],
 "metadata": {
  "language_info": {
   "name": "python"
  }
 },
 "nbformat": 4,
 "nbformat_minor": 5
}
