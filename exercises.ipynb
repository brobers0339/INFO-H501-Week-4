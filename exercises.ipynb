{
 "cells": [
  {
   "cell_type": "markdown",
   "id": "e3aad6c5",
   "metadata": {},
   "source": [
    "<font color='darkred'> Unless otherwise noted, **this notebook will not be reviewed or autograded.**</font> You are welcome to use it for scratchwork, but **only the files listed in the exercises will be checked.**\n",
    "\n",
    "---\n",
    "\n",
    "# Exercises\n",
    "\n",
    "This week, you will build a GitHub repository that uses Python modules to perform a basic task. Before we begin, make sure you are familiar with the steps in the **Week 4 | Development Setup** page on Canvas.\n"
   ]
  },
  {
   "cell_type": "markdown",
   "id": "acb6def4",
   "metadata": {},
   "source": [
    "## Exercise 1\n",
    "\n",
    "Using the steps in the **Week 4 | Development Setup** page, create a new project environment and a corresponding **public** GitHub repository from your computer, both called *h501-gutenberg*. Make sure this environment has at least the following packages installed:\n",
    "\n",
    "- ipykernel\n",
    "- pandas\n",
    "- seaborn"
   ]
  },
  {
   "cell_type": "markdown",
   "id": "cbdda62b",
   "metadata": {},
   "source": [
    "## Exercise 2\n",
    "\n",
    "1. Create a notebook file in your *h501-gutenberg* directory named `gutenberg.ipynb`.\n",
    "2. Add a .gitignore file and make sure the following files are not tracked by Git. \n",
    "    - `__pycache__`\n",
    "    - `*.csv`\n",
    "2. Open your gutenberg.ipynb notebook in VS Code, and set the kernel for this notebook to be the *h501-gutenberg* environment you created.\n",
    "3. In the first cell of the notebook, run the command `!conda env list`. **Make sure the output remains visible.**\n",
    "5. Commit these changes to your repository with a message like \"Initial commit: setup environment and notebook\".\n"
   ]
  },
  {
   "cell_type": "markdown",
   "id": "01ee77ac",
   "metadata": {},
   "source": [
    "## Exercise 3\n",
    "\n",
    "*This exercise uses the [TidyTuesday Gutenberg dataset](https://github.com/rfordatascience/tidytuesday/blob/main/data/2025/2025-06-03/readme.md).*\n",
    "\n",
    "Create a Python package in your repository such that the cell below lists Project Gutenberg author *aliases* (from the `alias` column) in order of translation count. That is, the first alias will be the author-alias with the most translations, and the last alias will be the one with the fewest translations. Again, this function returns a list."
   ]
  },
  {
   "cell_type": "code",
   "execution_count": null,
   "id": "21e909ac",
   "metadata": {},
   "outputs": [],
   "source": [
    "from tt_gutenberg.authors import *\n",
    "\n",
    "list_authors(by_languages=True, alias=True)"
   ]
  },
  {
   "cell_type": "markdown",
   "id": "367b3f13",
   "metadata": {},
   "source": [
    "- Of course this list should contain author *aliases*, not other \"messy\" values.\n",
    "- The `authors` module **must** reference at least one function in a *different* module. So, your package will have more than one module file.\n",
    "- All *modules* must contain **only functions** and `import` statements, and nothing more. *Hint: You might consider an \\_\\_init__.py file.*\n",
    "\n",
    "**Commit your work as you go.** It's a good practice to commit code that \"works\"."
   ]
  },
  {
   "cell_type": "markdown",
   "id": "3499694f",
   "metadata": {},
   "source": [
    "## Optional Challenge\n",
    "\n",
    "<font color='gray'>This challenge is *completely optional*, and it will only be reviewed if you attempt it.</font>\n",
    "\n",
    "Add code so that the following cell creates a Seaborn barplot showing how **author** (*NOT* alias) translation count changes over (birth) centuries.\n",
    "\n",
    "So, on the y-axis, bars indicate the *average* number of languages associated with authors born in each century (with a 95% confidence interval bar), and on the x-axis, we should have integers representing the centuries of birth dates, where\n",
    "\n",
    "```python\n",
    "birthdate = 1753.00    -->   birth_century = 1700\n",
    "```"
   ]
  },
  {
   "cell_type": "code",
   "execution_count": null,
   "id": "e1cb4e51",
   "metadata": {},
   "outputs": [],
   "source": [
    "plot_translations(over='birth_century')"
   ]
  },
  {
   "cell_type": "markdown",
   "id": "6ba516a3",
   "metadata": {},
   "source": [
    "<font color='darkorange'>**Make sure to submit the URL to your *tt_gutenberg* repository in Canvas**, **NOT** the URL to this forked repository.</font>\n"
   ]
  }
 ],
 "metadata": {
  "language_info": {
   "name": "python"
  }
 },
 "nbformat": 4,
 "nbformat_minor": 5
}
