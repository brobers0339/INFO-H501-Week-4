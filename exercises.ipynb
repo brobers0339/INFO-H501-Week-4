{
 "cells": [
  {
   "cell_type": "markdown",
   "id": "e3aad6c5",
   "metadata": {},
   "source": [
    "<font color='darkred'> Unless otherwise noted, **this notebook will not be reviewed or autograded.**</font> You are welcome to use it for scratchwork, but **only the files listed in the exercises will be checked.**\n",
    "\n",
    "---\n",
    "\n",
    "# Exercises\n",
    "\n",
    "This week, you will build a GitHub repository that uses Python modules to perform a basic task.\n",
    "\n",
    "## Exercise 1\n",
    "\n",
    "Using the steps in the **Week 4 | Development Setup** page in Canvas, create a new environment and GitHub repository, both called *dummy*.\n",
    "\n",
    "## Exercise 2\n",
    "\n",
    "Create a new notebook (.ipynb) file somewhere in the folder you just created. Set the kernel for this notebook to be the environment you created for this class. Please submit a screenshot of your notebook which shows the output of the following code run in a code cell (or any other line of Python code of your choice).\n",
    "\n",
    "```bash\n",
    "!conda env list\n",
    "```\n",
    "\n",
    "The screenshot should show the output and the top of the notebook which indicates that the code was run in your new environment. For example, "
   ]
  },
  {
   "cell_type": "markdown",
   "id": "a31fe569",
   "metadata": {},
   "source": []
  }
 ],
 "metadata": {
  "language_info": {
   "name": "python"
  }
 },
 "nbformat": 4,
 "nbformat_minor": 5
}
